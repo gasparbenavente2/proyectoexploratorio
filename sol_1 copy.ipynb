{
 "cells": [
  {
   "attachments": {},
   "cell_type": "markdown",
   "metadata": {},
   "source": [
    "### Pregunta 1"
   ]
  },
  {
   "cell_type": "code",
   "execution_count": 2,
   "metadata": {},
   "outputs": [],
   "source": [
    "import requests\n",
    "import pandas as pd\n",
    "from bs4 import BeautifulSoup as bs\n",
    "from selenium import webdriver\n",
    "from selenium.webdriver.common.keys import Keys\n",
    "from selenium.webdriver.common.by import By\n",
    "from selenium.webdriver.support.ui import WebDriverWait\n",
    "from selenium.webdriver.support import expected_conditions as EC\n",
    "from selenium.webdriver.chrome.options import Options\n",
    "import time"
   ]
  },
  {
   "cell_type": "code",
   "execution_count": 57,
   "metadata": {},
   "outputs": [],
   "source": [
    "domains = {\n",
    "    \"Argentina\": \".ar\",\n",
    "    #\"Belize\": \".bz\",\n",
    "    #\"Bolivia\": \".bo\",\n",
    "    \"Brazil\": \".br\",\n",
    "    #\"Chile\": \".cl\",\n",
    "    \"Colombia\": \".co\",\n",
    "    #\"Costa Rica\": \".cr\",\n",
    "    #\"Dominica\": \".dm\",\n",
    "    #\"Dominican Republic\": \".do\",\n",
    "    #\"Ecuador\": \".ec\",\n",
    "    #\"El Salvador\": \".sv\",\n",
    "    #\"Guatemala\": \".gt\",\n",
    "    #\"Guyana\": \".gy\",\n",
    "    #\"Haiti\": \".ht\",\n",
    "    #\"Honduras\": \".hn\",\n",
    "    #\"Jamaica\": \".jm\",\n",
    "    \"Mexico\": \".mx\",\n",
    "    #\"Nicaragua\": \".ni\",\n",
    "    #\"Panama\": \".pa\",\n",
    "    #\"Paraguay\": \".py\",\n",
    "    #\"Peru\": \".pe\",\n",
    "    #\"Puerto Rico\": \".pr\",\n",
    "    #\"Uruguay\": \".uy\",\n",
    "    #\"Venezuela\": \".ve\",\n",
    "    #\"US Virgin Islands\": \".vi\"\n",
    "}"
   ]
  },
  {
   "cell_type": "code",
   "execution_count": 73,
   "metadata": {},
   "outputs": [],
   "source": [
    "driver = webdriver.Chrome()\n",
    "url = 'https://mx.linkedin.com/jobs/data-scientist-empleos?position=1&pageNum=0'\n",
    "driver.get(url)\n",
    "\n",
    "while True:\n",
    "    try:\n",
    "        show_more_button = driver.find_elements(By.XPATH, '//*[@id=\"main-content\"]/section[2]/button')\n",
    "        if show_more_button and show_more_button[0].is_displayed():\n",
    "            show_more_button[0].click()\n",
    "            time.sleep(2)\n",
    "            WebDriverWait(driver, 10).until(EC.presence_of_element_located((By.XPATH, '//*[@id=\"main-content\"]/section[2]/ul')))\n",
    "            show_more_button = None\n",
    "        \n",
    "        driver.execute_script(\"window.scrollTo(0, document.body.scrollHeight);\")\n",
    "        time.sleep(2.5)\n",
    "        WebDriverWait(driver, 10).until(EC.presence_of_element_located((By.XPATH, '//*[@id=\"main-content\"]/section[2]/ul')))\n",
    "    except:\n",
    "        break"
   ]
  },
  {
   "cell_type": "code",
   "execution_count": 74,
   "metadata": {},
   "outputs": [],
   "source": [
    "html = driver.page_source"
   ]
  },
  {
   "cell_type": "code",
   "execution_count": 75,
   "metadata": {},
   "outputs": [
    {
     "name": "stdout",
     "output_type": "stream",
     "text": [
      "973\n",
      "https://mx.linkedin.com/jobs/view/jr-data-scientist-at-stori-3641783901?refId=ZzvXM4%2BXpqpzV8Ome8OtQg%3D%3D&trackingId=6bNzq7oaQoj4Rad8EeNf%2Fg%3D%3D&position=1&pageNum=0&trk=public_jobs_jserp-result_search-card\n"
     ]
    }
   ],
   "source": [
    "soup = bs(html)\n",
    "joblist = soup.select_one('#main-content > section.two-pane-serp-page__results-list > ul')\n",
    "jobs = joblist.find_all('li')\n",
    "\n",
    "hrefs = []\n",
    "for j in jobs:\n",
    "    content = j.find('a', class_='base-card__full-link')\n",
    "    if content:\n",
    "        hrefs.append(content['href'])\n",
    "\n",
    "print(len(hrefs))\n",
    "print(hrefs[0])"
   ]
  },
  {
   "cell_type": "code",
   "execution_count": 6,
   "metadata": {},
   "outputs": [],
   "source": [
    "def scrape_company(url):\n",
    "    options = Options()\n",
    "    options.add_argument('--headless')\n",
    "    \n",
    "    driver = webdriver.Chrome(options=options)\n",
    "    driver.get(url)\n",
    "    soup = bs(driver.page_source)\n",
    "\n",
    "    #mail_box = driver.find_element(By.CSS_SELECTOR,\"email-or-phone\")\n",
    "    #pass_box = driver.find_element(By.CSS_SELECTOR, \"password\")\n",
    "\n",
    "    #mail_box.send_keys('a05785717@gmail.com')\n",
    "    #pass_box.send_keys('qscwdb1!')\n",
    "\n",
    "    #time.sleep(5)\n",
    "    driver.close()\n",
    "\n",
    "    return soup"
   ]
  },
  {
   "cell_type": "code",
   "execution_count": null,
   "metadata": {},
   "outputs": [],
   "source": [
    "def scrape_url(url):\n",
    "    "
   ]
  },
  {
   "cell_type": "code",
   "execution_count": 56,
   "metadata": {},
   "outputs": [],
   "source": [
    "df = pd.DataFrame(columns=['Title', 'Jornada', 'Ciudad', 'URL', 'Descripcion', 'Compañia', 'Nº Empleados', 'Rubro', 'País'])\n",
    "\n",
    "c = 0\n",
    "for url in hrefs:\n",
    "    html = requests.get(url).content\n",
    "    soup = bs(html)\n",
    "\n",
    "    # TITLE\n",
    "    title = soup.select_one('#main-content > section.core-rail.mx-auto.papabear\\:w-core-rail-width.mamabear\\:max-w-\\[790px\\].babybear\\:max-w-\\[790px\\] > div > section.top-card-layout.container-lined.overflow-hidden.babybear\\:rounded-\\[0px\\] > div > div.top-card-layout__entity-info-container.flex.flex-wrap.papabear\\:flex-nowrap > div > h1')\n",
    "    if title:\n",
    "        title = title.text.strip()\n",
    "\n",
    "    # JORNADA\n",
    "    jornada = soup.select_one('#main-content > section.core-rail.mx-auto.papabear\\:w-core-rail-width.mamabear\\:max-w-\\[790px\\].babybear\\:max-w-\\[790px\\] > div > div > section.core-section-container.my-3.description > div > ul > li:nth-child(2) > span')\n",
    "    if jornada:\n",
    "        jornada = jornada.text.strip()\n",
    "\n",
    "    # CIUDAD\n",
    "    city = soup.select_one('#main-content > section.core-rail.mx-auto.papabear\\:w-core-rail-width.mamabear\\:max-w-\\[790px\\].babybear\\:max-w-\\[790px\\] > div > section.top-card-layout.container-lined.overflow-hidden.babybear\\:rounded-\\[0px\\] > div > div.top-card-layout__entity-info-container.flex.flex-wrap.papabear\\:flex-nowrap > div > h4 > div:nth-child(1) > span.topcard__flavor.topcard__flavor--bullet')\n",
    "    if city: \n",
    "        city = city.text.strip()\n",
    "    \n",
    "    # DESCRIPCION\n",
    "    descr = soup.select_one('#main-content > section.core-rail.mx-auto.papabear\\:w-core-rail-width.mamabear\\:max-w-\\[790px\\].babybear\\:max-w-\\[790px\\] > div > div > section.core-section-container.my-3.description > div > div > section > div')\n",
    "    if descr:\n",
    "        descr = descr.get_text(' ').strip()\n",
    "\n",
    "    # COMPAÑIA\n",
    "    company = soup.select_one('#main-content > section.core-rail.mx-auto.papabear\\:w-core-rail-width.mamabear\\:max-w-\\[790px\\].babybear\\:max-w-\\[790px\\] > div > section.top-card-layout.container-lined.overflow-hidden.babybear\\:rounded-\\[0px\\] > div > div.top-card-layout__entity-info-container.flex.flex-wrap.papabear\\:flex-nowrap > div > h4 > div:nth-child(1) > span:nth-child(1) > a')\n",
    "    if company:\n",
    "        urlC = company['href']\n",
    "        soupC = scrape_company(urlC)\n",
    "\n",
    "        company = soupC.select_one('#main-content > section.core-rail.mx-auto.papabear\\:w-core-rail-width.mamabear\\:max-w-\\[790px\\].babybear\\:max-w-\\[790px\\] > section > div > div.top-card-layout__entity-info-container.flex.flex-wrap.papabear\\:flex-nowrap > div:nth-child(1) > h1')\n",
    "        if company:\n",
    "            company = company.text.strip()\n",
    "        \n",
    "        # EMPLEADOS\n",
    "        empleados = soupC.select_one('#main-content > section.core-rail.mx-auto.papabear\\:w-core-rail-width.mamabear\\:max-w-\\[790px\\].babybear\\:max-w-\\[790px\\] > section > div > div.top-card-layout__entity-info-container.flex.flex-wrap.papabear\\:flex-nowrap > div.top-card-layout__entity-info.flex-grow.flex-shrink-0.basis-0.babybear\\:flex-none.babybear\\:w-full.top-card-layout__entity-info--right-column.ml-details-container-padding.max-w-\\[288px\\].babybear\\:my-2.babybear\\:ml-0 > ul > li > div > a')\n",
    "        if empleados:\n",
    "            empleados = empleados.text.strip()\n",
    "            empleados = ''.join([x for x in empleados if x.isdigit()])\n",
    "            empleados = int(empleados)\n",
    "\n",
    "        # RUBRO\n",
    "        rubro = soupC.select_one('#main-content > section.core-rail.mx-auto.papabear\\:w-core-rail-width.mamabear\\:max-w-\\[790px\\].babybear\\:max-w-\\[790px\\] > section > div > div.top-card-layout__entity-info-container.flex.flex-wrap.papabear\\:flex-nowrap > div:nth-child(1) > h2')\n",
    "        if rubro:\n",
    "            rubro = rubro.text.strip()\n",
    "        \n",
    "        # PAIS\n",
    "        pais = soupC.select_one('#main-content > section.core-rail.mx-auto.papabear\\:w-core-rail-width.mamabear\\:max-w-\\[790px\\].babybear\\:max-w-\\[790px\\] > section > div > div.top-card-layout__entity-info-container.flex.flex-wrap.papabear\\:flex-nowrap > div:nth-child(1) > h3')\n",
    "        if pais:\n",
    "            pais = pais.stripped_strings\n",
    "            pais = [x.strip() for x in pais][0]\n",
    "    else:\n",
    "        company, empleados, rubro, pais = None, None, None, None\n",
    "\n",
    "    # ADD TO DF\n",
    "    row = {'Title': title, 'Jornada': jornada, 'Ciudad': city, 'URL': url, 'Descripcion': descr, 'Compañia': company, 'Nº Empleados': empleados, 'Rubro': rubro, 'País': pais}\n",
    "    df = df.append(row, ignore_index=True)\n",
    "\n",
    "    c += 1\n",
    "    if c == 1000:\n",
    "        break\n",
    "\n",
    "df.to_csv('virginislands.csv')"
   ]
  },
  {
   "cell_type": "code",
   "execution_count": null,
   "metadata": {},
   "outputs": [],
   "source": []
  },
  {
   "cell_type": "code",
   "execution_count": null,
   "metadata": {},
   "outputs": [],
   "source": []
  }
 ],
 "metadata": {
  "kernelspec": {
   "display_name": "Python 3",
   "language": "python",
   "name": "python3"
  },
  "language_info": {
   "codemirror_mode": {
    "name": "ipython",
    "version": 3
   },
   "file_extension": ".py",
   "mimetype": "text/x-python",
   "name": "python",
   "nbconvert_exporter": "python",
   "pygments_lexer": "ipython3",
   "version": "3.7.4"
  },
  "orig_nbformat": 4
 },
 "nbformat": 4,
 "nbformat_minor": 2
}

{
 "cells": [
  {
   "cell_type": "markdown",
   "metadata": {
    "id": "QyhlZPUEwufO"
   },
   "source": [
    "# <img style=\"float: left; padding-right: 20px; width: 100px\" src=\"https://upload.wikimedia.org/wikipedia/commons/thumb/8/84/Escudo_de_la_Pontificia_Universidad_Cat%C3%B3lica_de_Chile.svg/1920px-Escudo_de_la_Pontificia_Universidad_Cat%C3%B3lica_de_Chile.svg.png\"> IMT1001 - Introducción a Ingeniería Matemática\n",
    "**Instituto de Ingeniería Matemática y Computacional**<br>\n",
    "**Pontificia Universidad Católica de Chile**<br>\n",
    "**2023-1**\n",
    "\n",
    "\n",
    "----"
   ]
  },
  {
   "cell_type": "markdown",
   "metadata": {
    "id": "HFn7QeLu3xOO"
   },
   "source": [
    "# Proyecto: Análisis del Mercado Laboral para Cientistas de Datos en Latinoamérica.\n",
    "\n",
    "\n",
    "## Introducción.\n",
    "\n",
    "Hace ya casi 10 años, el trabajo de científico de datos fue catalogado por Harvard Bussiness Review como \"el trabajo más atractivo del siglo XXI\" [(Davenport & Patil 2012)](https://hbr.org/2012/10/data-scientist-the-sexiest-job-of-the-21st-century). Desde entonces, se ha comprobado un aumento constante de la demanda por profesionales expertos datos, y se espera que tanto la creación de puestos trabajos como los salarios sigan al alza en los próximos años. Los siguienes artículos de prensa y difusión ilustran esta situación:\n",
    "\n",
    "https://www.smithhanley.com/2022/01/04/data-science-in-2022/\n",
    "https://www.bbva.com/es/big-data-la-demanda-de-talento-experto-sigue-creciendo/\n",
    "\n",
    "Los estudios citados hacen referencia a mercados laborales en Europa y Estados Unidos. Suponga que ud.está a cargo del desarrollo de un estudio del mercado laboral de científicos de datos en latinoamérica, para lo cual necesita construir una base de datos con las ofertas de trabajo publicadas en distintos países de la región.\n",
    "\n",
    "El objetivo de este proyecto es aplicar sus conocimientos de extracción, limpieza, integración y análisis de datos para elaborar un estudio del mercado laboral de Ciencia de Datos en latinoamérica. Como principales fuentes de datos, se utilizarán el portal abierto de empleos www.linkedin.com/jobs, y la base datos del Banco Mundial, https://datacatalog.worldbank.org/.\n",
    "\n",
    "\n",
    "### 1. Extracción de datos de ofertas de empleo en ciencia de datos.\n",
    "\n",
    "Programe un scraper de la página web www.linkedin.com/jobs, de manera de extraer la información de todos los empleos encontrados al buscar las palabras `data scientist` para **todos los países de latinoamérica.**\n",
    "\n",
    "Como resultado de este trabajo de extracción de datos, debe generar un dataframe para cada país, con todos los anuncios de empleos arrojados por la búsqueda en Linkedin incluyendo al menos los siguientes campos de información:\n",
    "\n",
    "* Título del empleo ofrecido\n",
    "* Tipo de jornada (parcial/completa/etc.)\n",
    "* Ciudad\n",
    "* URL de la oferta de empleo\n",
    "* Descripción del empleo\n",
    "* Nombre de la compañía\n",
    "* Número de empleados de la compañía\n",
    "* Rubro de la compañía\n",
    "* País\n",
    "\n",
    "### 2. Procesamiento y limpieza de datos.\n",
    "\n",
    "Integre todos los datos de empleos extraídos en una única base de datos, e implemente un proceso de limpieza y corrección de datos para llegar a un dataset depurado y apto para el análisis, incluyendo:\n",
    "\n",
    "* Estandarización de nombres de columnas.\n",
    "* Tratamiento de datos duplicados: identifique duplicados totales y parciales, y defina una medida de corrección para cada caso.\n",
    "* Asignación de tipos de datos correctos a cada columna.\n",
    "* Limpieza de textos.\n",
    "* Tratamiento de datos nulos.\n",
    "\n",
    "Describa los principales desafíos para limpieza y corrección de sus datos, y justifique las medidas de corrección adoptadas para resolverlos (por ejemplo, eliminar datos, reemplazar valores, combinar datos, etc).\n",
    "\n",
    "\n",
    "### 3. Extracción de datos de indicadores económicos por país.\n",
    "\n",
    "Existen estudios que postulan una posible relación entre la oferta de empleos tecnológicos (como los de Cientista de Datos), y el crecimiento económico de los países o ciudades. ¿Será posible identificar correlaciones de este tipo en Latinoamérica? \n",
    "\n",
    "*Referencia*: https://ieeexplore.ieee.org/abstract/document/9096765\n",
    "\n",
    "Para estudiar esta hipótesis, utilizaremos el catálogo de datos del Banco Mundial para extraer datos de indicadores económicos y de educación para los países considerados, a través de la API `Indicators`. Puede acceder a la documentación de la API en el siguiente link:\n",
    "\n",
    "https://datahelpdesk.worldbank.org/knowledgebase/topics/125589-developer-information\n",
    "\n",
    "Estudie cuidadosamente las formas de consulta e indicadores disponibles en la API, y utilícela para obtener los siguientes indicadores para cada país:\n",
    "\n",
    "* Población total. \n",
    "* Producto interno bruto (GDP).\n",
    "* Porcentaje de la población con acceso a electricidad.\n",
    "* Porcentaje del GPD invertido por el gobierno en educación.\n",
    "* Porcentaje de la población con educación avanzada.\n",
    "* Otros *3 indicadores* elegidos por ud. que le parezcan relevantes caracterizar el nivel de desarrollo económico, educacional y/o tecnológico de cada país (justifique su elección).\n",
    "\n",
    "\n",
    "### 4. Análisis de los mercados laborales.\n",
    "\n",
    "A partir de los datos previamente reunidos y procesados, proponga e implemente una metodología de análisis para responder a las preguntas que siguen. Fundamente sus análisis en resúmenes estadísticos y gráficos de los datos.\n",
    "\n",
    "* ¿Cuáles son los países con los mercados laborales de ciencia de datos más y menos activos de latinoamérica?\n",
    "* ¿Cuáles son las características de las compañías que ofrecen empleos en ciencia de datos, y cómo varían estas características entre distintos países? Por ejemplo analice el rubro y cantidad de empleos de las compañías, si existen compañías con presencia en varios países, diversidad de compañías en cada país, etc.\n",
    "* ¿Existe alguna relación entre la actividad del mercado laboral en ciencia de datos, y el nivel de desarrollo económico de los distintos países de la región?\n",
    "* A partir de las descripciones de empleos, y utilizando métodos sencillos de procesamiento de textos, analice ¿Cuáles son algunas competencias (*skills*) o características más solicitadas en los anuncios de empleo para cientistas de datos? Explique claramente el método de análisis utilizado, y sus resultados.\n",
    "* Conclusiones: ¿Cómo podría utilizar el conjunto de datos que ud. ha construido para generar información útil para un futuro cientista de datos en formación? (por ejemplo, skills recomendables de adquirir, países donde proyectar una carrera, etc).\n",
    "\n",
    "\n",
    "*Nota:* Un supuesto fuerte para este análisis, es que Linkedin es representativo del mercado laboral de cada país. Puede hacer otros supuestos que considere necesarios, explicándolos claramente. También puede complementar con otras fuentes de datos.\n"
   ]
  }
 ],
 "metadata": {
  "colab": {
   "provenance": []
  },
  "kernelspec": {
   "display_name": "Python 3 (ipykernel)",
   "language": "python",
   "name": "python3"
  },
  "language_info": {
   "codemirror_mode": {
    "name": "ipython",
    "version": 3
   },
   "file_extension": ".py",
   "mimetype": "text/x-python",
   "name": "python",
   "nbconvert_exporter": "python",
   "pygments_lexer": "ipython3",
   "version": "3.7.3"
  }
 },
 "nbformat": 4,
 "nbformat_minor": 1
}
